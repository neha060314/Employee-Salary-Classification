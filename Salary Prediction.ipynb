{
  "cells": [
    {
      "cell_type": "code",
      "execution_count": 49,
      "metadata": {
        "id": "S6_9jXPmp3Tf"
      },
      "outputs": [],
      "source": [
        "import pandas as pd\n",
        "import numpy as np"
      ]
    },
    {
      "cell_type": "code",
      "execution_count": 50,
      "metadata": {
        "id": "ZNpqWWPkqgve"
      },
      "outputs": [],
      "source": [
        "df = pd.read_csv('Salary Data.csv')"
      ]
    },
    {
      "cell_type": "code",
      "execution_count": 51,
      "metadata": {
        "colab": {
          "base_uri": "https://localhost:8080/",
          "height": 206
        },
        "id": "NSWxrdDiql7O",
        "outputId": "edc86b47-3242-435b-cec6-f5ac8bc67886"
      },
      "outputs": [
        {
          "data": {
            "text/html": [
              "<div>\n",
              "<style scoped>\n",
              "    .dataframe tbody tr th:only-of-type {\n",
              "        vertical-align: middle;\n",
              "    }\n",
              "\n",
              "    .dataframe tbody tr th {\n",
              "        vertical-align: top;\n",
              "    }\n",
              "\n",
              "    .dataframe thead th {\n",
              "        text-align: right;\n",
              "    }\n",
              "</style>\n",
              "<table border=\"1\" class=\"dataframe\">\n",
              "  <thead>\n",
              "    <tr style=\"text-align: right;\">\n",
              "      <th></th>\n",
              "      <th>Age</th>\n",
              "      <th>Gender</th>\n",
              "      <th>Education Level</th>\n",
              "      <th>Job Title</th>\n",
              "      <th>Years of Experience</th>\n",
              "      <th>Salary</th>\n",
              "    </tr>\n",
              "  </thead>\n",
              "  <tbody>\n",
              "    <tr>\n",
              "      <th>0</th>\n",
              "      <td>32.0</td>\n",
              "      <td>Male</td>\n",
              "      <td>Bachelor's</td>\n",
              "      <td>Software Engineer</td>\n",
              "      <td>5.0</td>\n",
              "      <td>90000.0</td>\n",
              "    </tr>\n",
              "    <tr>\n",
              "      <th>1</th>\n",
              "      <td>28.0</td>\n",
              "      <td>Female</td>\n",
              "      <td>Master's</td>\n",
              "      <td>Data Analyst</td>\n",
              "      <td>3.0</td>\n",
              "      <td>65000.0</td>\n",
              "    </tr>\n",
              "    <tr>\n",
              "      <th>2</th>\n",
              "      <td>45.0</td>\n",
              "      <td>Male</td>\n",
              "      <td>PhD</td>\n",
              "      <td>Senior Manager</td>\n",
              "      <td>15.0</td>\n",
              "      <td>150000.0</td>\n",
              "    </tr>\n",
              "    <tr>\n",
              "      <th>3</th>\n",
              "      <td>36.0</td>\n",
              "      <td>Female</td>\n",
              "      <td>Bachelor's</td>\n",
              "      <td>Sales Associate</td>\n",
              "      <td>7.0</td>\n",
              "      <td>60000.0</td>\n",
              "    </tr>\n",
              "    <tr>\n",
              "      <th>4</th>\n",
              "      <td>52.0</td>\n",
              "      <td>Male</td>\n",
              "      <td>Master's</td>\n",
              "      <td>Director</td>\n",
              "      <td>20.0</td>\n",
              "      <td>200000.0</td>\n",
              "    </tr>\n",
              "  </tbody>\n",
              "</table>\n",
              "</div>"
            ],
            "text/plain": [
              "    Age  Gender Education Level          Job Title  Years of Experience  \\\n",
              "0  32.0    Male      Bachelor's  Software Engineer                  5.0   \n",
              "1  28.0  Female        Master's       Data Analyst                  3.0   \n",
              "2  45.0    Male             PhD     Senior Manager                 15.0   \n",
              "3  36.0  Female      Bachelor's    Sales Associate                  7.0   \n",
              "4  52.0    Male        Master's           Director                 20.0   \n",
              "\n",
              "     Salary  \n",
              "0   90000.0  \n",
              "1   65000.0  \n",
              "2  150000.0  \n",
              "3   60000.0  \n",
              "4  200000.0  "
            ]
          },
          "execution_count": 51,
          "metadata": {},
          "output_type": "execute_result"
        }
      ],
      "source": [
        "df.head()"
      ]
    },
    {
      "cell_type": "code",
      "execution_count": 52,
      "metadata": {
        "colab": {
          "base_uri": "https://localhost:8080/",
          "height": 206
        },
        "id": "9673895d",
        "outputId": "4e419bfe-670d-4a6f-bfd4-a9490205ac8c"
      },
      "outputs": [
        {
          "data": {
            "text/html": [
              "<div>\n",
              "<style scoped>\n",
              "    .dataframe tbody tr th:only-of-type {\n",
              "        vertical-align: middle;\n",
              "    }\n",
              "\n",
              "    .dataframe tbody tr th {\n",
              "        vertical-align: top;\n",
              "    }\n",
              "\n",
              "    .dataframe thead th {\n",
              "        text-align: right;\n",
              "    }\n",
              "</style>\n",
              "<table border=\"1\" class=\"dataframe\">\n",
              "  <thead>\n",
              "    <tr style=\"text-align: right;\">\n",
              "      <th></th>\n",
              "      <th>Age</th>\n",
              "      <th>Gender</th>\n",
              "      <th>Education Level</th>\n",
              "      <th>Job Title</th>\n",
              "      <th>Years of Experience</th>\n",
              "      <th>Salary</th>\n",
              "    </tr>\n",
              "  </thead>\n",
              "  <tbody>\n",
              "    <tr>\n",
              "      <th>370</th>\n",
              "      <td>35.0</td>\n",
              "      <td>Female</td>\n",
              "      <td>Bachelor's</td>\n",
              "      <td>Senior Marketing Analyst</td>\n",
              "      <td>8.0</td>\n",
              "      <td>85000.0</td>\n",
              "    </tr>\n",
              "    <tr>\n",
              "      <th>371</th>\n",
              "      <td>43.0</td>\n",
              "      <td>Male</td>\n",
              "      <td>Master's</td>\n",
              "      <td>Director of Operations</td>\n",
              "      <td>19.0</td>\n",
              "      <td>170000.0</td>\n",
              "    </tr>\n",
              "    <tr>\n",
              "      <th>372</th>\n",
              "      <td>29.0</td>\n",
              "      <td>Female</td>\n",
              "      <td>Bachelor's</td>\n",
              "      <td>Junior Project Manager</td>\n",
              "      <td>2.0</td>\n",
              "      <td>40000.0</td>\n",
              "    </tr>\n",
              "    <tr>\n",
              "      <th>373</th>\n",
              "      <td>34.0</td>\n",
              "      <td>Male</td>\n",
              "      <td>Bachelor's</td>\n",
              "      <td>Senior Operations Coordinator</td>\n",
              "      <td>7.0</td>\n",
              "      <td>90000.0</td>\n",
              "    </tr>\n",
              "    <tr>\n",
              "      <th>374</th>\n",
              "      <td>44.0</td>\n",
              "      <td>Female</td>\n",
              "      <td>PhD</td>\n",
              "      <td>Senior Business Analyst</td>\n",
              "      <td>15.0</td>\n",
              "      <td>150000.0</td>\n",
              "    </tr>\n",
              "  </tbody>\n",
              "</table>\n",
              "</div>"
            ],
            "text/plain": [
              "      Age  Gender Education Level                      Job Title  \\\n",
              "370  35.0  Female      Bachelor's       Senior Marketing Analyst   \n",
              "371  43.0    Male        Master's         Director of Operations   \n",
              "372  29.0  Female      Bachelor's         Junior Project Manager   \n",
              "373  34.0    Male      Bachelor's  Senior Operations Coordinator   \n",
              "374  44.0  Female             PhD        Senior Business Analyst   \n",
              "\n",
              "     Years of Experience    Salary  \n",
              "370                  8.0   85000.0  \n",
              "371                 19.0  170000.0  \n",
              "372                  2.0   40000.0  \n",
              "373                  7.0   90000.0  \n",
              "374                 15.0  150000.0  "
            ]
          },
          "metadata": {},
          "output_type": "display_data"
        }
      ],
      "source": [
        "display(df.tail())"
      ]
    },
    {
      "cell_type": "code",
      "execution_count": 53,
      "metadata": {
        "colab": {
          "base_uri": "https://localhost:8080/"
        },
        "id": "BCP7S1A2rBk4",
        "outputId": "636b3262-d83a-40bd-df32-fda3c9899f13"
      },
      "outputs": [
        {
          "name": "stdout",
          "output_type": "stream",
          "text": [
            "Shape of the DataFrame: (375, 6)\n"
          ]
        }
      ],
      "source": [
        "print(\"Shape of the DataFrame:\", df.shape)"
      ]
    },
    {
      "cell_type": "code",
      "execution_count": 54,
      "metadata": {
        "colab": {
          "base_uri": "https://localhost:8080/",
          "height": 206
        },
        "id": "sqHtJA5S5Iqz",
        "outputId": "76945629-6681-48fe-9430-533ddd8defd9"
      },
      "outputs": [
        {
          "data": {
            "text/html": [
              "<div>\n",
              "<style scoped>\n",
              "    .dataframe tbody tr th:only-of-type {\n",
              "        vertical-align: middle;\n",
              "    }\n",
              "\n",
              "    .dataframe tbody tr th {\n",
              "        vertical-align: top;\n",
              "    }\n",
              "\n",
              "    .dataframe thead th {\n",
              "        text-align: right;\n",
              "    }\n",
              "</style>\n",
              "<table border=\"1\" class=\"dataframe\">\n",
              "  <thead>\n",
              "    <tr style=\"text-align: right;\">\n",
              "      <th></th>\n",
              "      <th>Age</th>\n",
              "      <th>Gender</th>\n",
              "      <th>Degree</th>\n",
              "      <th>Job_Title</th>\n",
              "      <th>Experience_Years</th>\n",
              "      <th>Salary</th>\n",
              "    </tr>\n",
              "  </thead>\n",
              "  <tbody>\n",
              "    <tr>\n",
              "      <th>0</th>\n",
              "      <td>32.0</td>\n",
              "      <td>Male</td>\n",
              "      <td>Bachelor's</td>\n",
              "      <td>Software Engineer</td>\n",
              "      <td>5.0</td>\n",
              "      <td>90000.0</td>\n",
              "    </tr>\n",
              "    <tr>\n",
              "      <th>1</th>\n",
              "      <td>28.0</td>\n",
              "      <td>Female</td>\n",
              "      <td>Master's</td>\n",
              "      <td>Data Analyst</td>\n",
              "      <td>3.0</td>\n",
              "      <td>65000.0</td>\n",
              "    </tr>\n",
              "    <tr>\n",
              "      <th>2</th>\n",
              "      <td>45.0</td>\n",
              "      <td>Male</td>\n",
              "      <td>PhD</td>\n",
              "      <td>Senior Manager</td>\n",
              "      <td>15.0</td>\n",
              "      <td>150000.0</td>\n",
              "    </tr>\n",
              "    <tr>\n",
              "      <th>3</th>\n",
              "      <td>36.0</td>\n",
              "      <td>Female</td>\n",
              "      <td>Bachelor's</td>\n",
              "      <td>Sales Associate</td>\n",
              "      <td>7.0</td>\n",
              "      <td>60000.0</td>\n",
              "    </tr>\n",
              "    <tr>\n",
              "      <th>4</th>\n",
              "      <td>52.0</td>\n",
              "      <td>Male</td>\n",
              "      <td>Master's</td>\n",
              "      <td>Director</td>\n",
              "      <td>20.0</td>\n",
              "      <td>200000.0</td>\n",
              "    </tr>\n",
              "  </tbody>\n",
              "</table>\n",
              "</div>"
            ],
            "text/plain": [
              "    Age  Gender      Degree          Job_Title  Experience_Years    Salary\n",
              "0  32.0    Male  Bachelor's  Software Engineer               5.0   90000.0\n",
              "1  28.0  Female    Master's       Data Analyst               3.0   65000.0\n",
              "2  45.0    Male         PhD     Senior Manager              15.0  150000.0\n",
              "3  36.0  Female  Bachelor's    Sales Associate               7.0   60000.0\n",
              "4  52.0    Male    Master's           Director              20.0  200000.0"
            ]
          },
          "metadata": {},
          "output_type": "display_data"
        }
      ],
      "source": [
        "df.columns = ['Age', 'Gender', 'Degree', 'Job_Title', 'Experience_Years', 'Salary']\n",
        "display(df.head())"
      ]
    },
    {
      "cell_type": "code",
      "execution_count": 55,
      "metadata": {
        "colab": {
          "base_uri": "https://localhost:8080/",
          "height": 272
        },
        "id": "CdJQE3Mo5Igj",
        "outputId": "abbe1b78-0d4b-432f-acb1-205618b68631"
      },
      "outputs": [
        {
          "data": {
            "text/plain": [
              "Age                 float64\n",
              "Gender               object\n",
              "Degree               object\n",
              "Job_Title            object\n",
              "Experience_Years    float64\n",
              "Salary              float64\n",
              "dtype: object"
            ]
          },
          "execution_count": 55,
          "metadata": {},
          "output_type": "execute_result"
        }
      ],
      "source": [
        "df.dtypes"
      ]
    },
    {
      "cell_type": "code",
      "execution_count": 56,
      "metadata": {
        "colab": {
          "base_uri": "https://localhost:8080/"
        },
        "id": "Y4CBQb0R5n1s",
        "outputId": "7dc559f4-1dbd-4f09-8b03-02f48cf5e638"
      },
      "outputs": [
        {
          "name": "stdout",
          "output_type": "stream",
          "text": [
            "<class 'pandas.core.frame.DataFrame'>\n",
            "RangeIndex: 375 entries, 0 to 374\n",
            "Data columns (total 6 columns):\n",
            " #   Column            Non-Null Count  Dtype  \n",
            "---  ------            --------------  -----  \n",
            " 0   Age               373 non-null    float64\n",
            " 1   Gender            373 non-null    object \n",
            " 2   Degree            373 non-null    object \n",
            " 3   Job_Title         373 non-null    object \n",
            " 4   Experience_Years  373 non-null    float64\n",
            " 5   Salary            373 non-null    float64\n",
            "dtypes: float64(3), object(3)\n",
            "memory usage: 17.7+ KB\n"
          ]
        }
      ],
      "source": [
        "df.info()"
      ]
    },
    {
      "cell_type": "code",
      "execution_count": 57,
      "metadata": {
        "colab": {
          "base_uri": "https://localhost:8080/",
          "height": 1000
        },
        "id": "pGNnhoZq50ab",
        "outputId": "f11684f2-2f61-4546-c9c4-be3c43f0180b"
      },
      "outputs": [
        {
          "data": {
            "text/html": [
              "<div>\n",
              "<style scoped>\n",
              "    .dataframe tbody tr th:only-of-type {\n",
              "        vertical-align: middle;\n",
              "    }\n",
              "\n",
              "    .dataframe tbody tr th {\n",
              "        vertical-align: top;\n",
              "    }\n",
              "\n",
              "    .dataframe thead th {\n",
              "        text-align: right;\n",
              "    }\n",
              "</style>\n",
              "<table border=\"1\" class=\"dataframe\">\n",
              "  <thead>\n",
              "    <tr style=\"text-align: right;\">\n",
              "      <th></th>\n",
              "      <th>Age</th>\n",
              "      <th>Gender</th>\n",
              "      <th>Degree</th>\n",
              "      <th>Job_Title</th>\n",
              "      <th>Experience_Years</th>\n",
              "      <th>Salary</th>\n",
              "    </tr>\n",
              "  </thead>\n",
              "  <tbody>\n",
              "    <tr>\n",
              "      <th>195</th>\n",
              "      <td>28.0</td>\n",
              "      <td>Male</td>\n",
              "      <td>Bachelor's</td>\n",
              "      <td>Junior Business Analyst</td>\n",
              "      <td>2.0</td>\n",
              "      <td>40000.0</td>\n",
              "    </tr>\n",
              "    <tr>\n",
              "      <th>250</th>\n",
              "      <td>30.0</td>\n",
              "      <td>Female</td>\n",
              "      <td>Bachelor's</td>\n",
              "      <td>Junior Marketing Coordinator</td>\n",
              "      <td>2.0</td>\n",
              "      <td>40000.0</td>\n",
              "    </tr>\n",
              "    <tr>\n",
              "      <th>251</th>\n",
              "      <td>38.0</td>\n",
              "      <td>Male</td>\n",
              "      <td>Master's</td>\n",
              "      <td>Senior IT Consultant</td>\n",
              "      <td>9.0</td>\n",
              "      <td>110000.0</td>\n",
              "    </tr>\n",
              "    <tr>\n",
              "      <th>252</th>\n",
              "      <td>45.0</td>\n",
              "      <td>Female</td>\n",
              "      <td>PhD</td>\n",
              "      <td>Senior Product Designer</td>\n",
              "      <td>15.0</td>\n",
              "      <td>150000.0</td>\n",
              "    </tr>\n",
              "    <tr>\n",
              "      <th>253</th>\n",
              "      <td>28.0</td>\n",
              "      <td>Male</td>\n",
              "      <td>Bachelor's</td>\n",
              "      <td>Junior Business Development Associate</td>\n",
              "      <td>2.0</td>\n",
              "      <td>40000.0</td>\n",
              "    </tr>\n",
              "    <tr>\n",
              "      <th>254</th>\n",
              "      <td>35.0</td>\n",
              "      <td>Female</td>\n",
              "      <td>Bachelor's</td>\n",
              "      <td>Senior Marketing Analyst</td>\n",
              "      <td>8.0</td>\n",
              "      <td>85000.0</td>\n",
              "    </tr>\n",
              "    <tr>\n",
              "      <th>255</th>\n",
              "      <td>44.0</td>\n",
              "      <td>Male</td>\n",
              "      <td>Bachelor's</td>\n",
              "      <td>Senior Software Engineer</td>\n",
              "      <td>14.0</td>\n",
              "      <td>130000.0</td>\n",
              "    </tr>\n",
              "    <tr>\n",
              "      <th>256</th>\n",
              "      <td>34.0</td>\n",
              "      <td>Female</td>\n",
              "      <td>Master's</td>\n",
              "      <td>Senior Financial Advisor</td>\n",
              "      <td>6.0</td>\n",
              "      <td>100000.0</td>\n",
              "    </tr>\n",
              "    <tr>\n",
              "      <th>257</th>\n",
              "      <td>35.0</td>\n",
              "      <td>Male</td>\n",
              "      <td>Bachelor's</td>\n",
              "      <td>Senior Project Coordinator</td>\n",
              "      <td>9.0</td>\n",
              "      <td>95000.0</td>\n",
              "    </tr>\n",
              "    <tr>\n",
              "      <th>258</th>\n",
              "      <td>50.0</td>\n",
              "      <td>Female</td>\n",
              "      <td>PhD</td>\n",
              "      <td>Director of Operations</td>\n",
              "      <td>22.0</td>\n",
              "      <td>180000.0</td>\n",
              "    </tr>\n",
              "    <tr>\n",
              "      <th>260</th>\n",
              "      <td>NaN</td>\n",
              "      <td>NaN</td>\n",
              "      <td>NaN</td>\n",
              "      <td>NaN</td>\n",
              "      <td>NaN</td>\n",
              "      <td>NaN</td>\n",
              "    </tr>\n",
              "    <tr>\n",
              "      <th>262</th>\n",
              "      <td>46.0</td>\n",
              "      <td>Male</td>\n",
              "      <td>PhD</td>\n",
              "      <td>Senior Data Scientist</td>\n",
              "      <td>18.0</td>\n",
              "      <td>160000.0</td>\n",
              "    </tr>\n",
              "    <tr>\n",
              "      <th>281</th>\n",
              "      <td>41.0</td>\n",
              "      <td>Female</td>\n",
              "      <td>Bachelor's</td>\n",
              "      <td>Senior Project Coordinator</td>\n",
              "      <td>11.0</td>\n",
              "      <td>95000.0</td>\n",
              "    </tr>\n",
              "    <tr>\n",
              "      <th>287</th>\n",
              "      <td>35.0</td>\n",
              "      <td>Female</td>\n",
              "      <td>Bachelor's</td>\n",
              "      <td>Senior Marketing Analyst</td>\n",
              "      <td>8.0</td>\n",
              "      <td>85000.0</td>\n",
              "    </tr>\n",
              "    <tr>\n",
              "      <th>303</th>\n",
              "      <td>45.0</td>\n",
              "      <td>Male</td>\n",
              "      <td>PhD</td>\n",
              "      <td>Senior Data Engineer</td>\n",
              "      <td>16.0</td>\n",
              "      <td>150000.0</td>\n",
              "    </tr>\n",
              "    <tr>\n",
              "      <th>306</th>\n",
              "      <td>49.0</td>\n",
              "      <td>Female</td>\n",
              "      <td>Master's</td>\n",
              "      <td>Director of Marketing</td>\n",
              "      <td>21.0</td>\n",
              "      <td>180000.0</td>\n",
              "    </tr>\n",
              "    <tr>\n",
              "      <th>307</th>\n",
              "      <td>31.0</td>\n",
              "      <td>Male</td>\n",
              "      <td>Bachelor's</td>\n",
              "      <td>Junior Operations Analyst</td>\n",
              "      <td>3.0</td>\n",
              "      <td>50000.0</td>\n",
              "    </tr>\n",
              "    <tr>\n",
              "      <th>309</th>\n",
              "      <td>47.0</td>\n",
              "      <td>Male</td>\n",
              "      <td>Master's</td>\n",
              "      <td>Director of Marketing</td>\n",
              "      <td>19.0</td>\n",
              "      <td>170000.0</td>\n",
              "    </tr>\n",
              "    <tr>\n",
              "      <th>310</th>\n",
              "      <td>29.0</td>\n",
              "      <td>Female</td>\n",
              "      <td>Bachelor's</td>\n",
              "      <td>Junior Business Development Associate</td>\n",
              "      <td>1.5</td>\n",
              "      <td>35000.0</td>\n",
              "    </tr>\n",
              "    <tr>\n",
              "      <th>311</th>\n",
              "      <td>35.0</td>\n",
              "      <td>Male</td>\n",
              "      <td>Bachelor's</td>\n",
              "      <td>Senior Financial Manager</td>\n",
              "      <td>9.0</td>\n",
              "      <td>100000.0</td>\n",
              "    </tr>\n",
              "    <tr>\n",
              "      <th>312</th>\n",
              "      <td>44.0</td>\n",
              "      <td>Female</td>\n",
              "      <td>PhD</td>\n",
              "      <td>Senior Product Designer</td>\n",
              "      <td>15.0</td>\n",
              "      <td>150000.0</td>\n",
              "    </tr>\n",
              "    <tr>\n",
              "      <th>313</th>\n",
              "      <td>33.0</td>\n",
              "      <td>Male</td>\n",
              "      <td>Bachelor's</td>\n",
              "      <td>Junior Business Analyst</td>\n",
              "      <td>4.0</td>\n",
              "      <td>60000.0</td>\n",
              "    </tr>\n",
              "    <tr>\n",
              "      <th>314</th>\n",
              "      <td>35.0</td>\n",
              "      <td>Female</td>\n",
              "      <td>Bachelor's</td>\n",
              "      <td>Senior Marketing Analyst</td>\n",
              "      <td>8.0</td>\n",
              "      <td>85000.0</td>\n",
              "    </tr>\n",
              "    <tr>\n",
              "      <th>315</th>\n",
              "      <td>44.0</td>\n",
              "      <td>Male</td>\n",
              "      <td>Bachelor's</td>\n",
              "      <td>Senior Software Engineer</td>\n",
              "      <td>13.0</td>\n",
              "      <td>130000.0</td>\n",
              "    </tr>\n",
              "    <tr>\n",
              "      <th>317</th>\n",
              "      <td>36.0</td>\n",
              "      <td>Male</td>\n",
              "      <td>Bachelor's</td>\n",
              "      <td>Senior Marketing Specialist</td>\n",
              "      <td>8.0</td>\n",
              "      <td>95000.0</td>\n",
              "    </tr>\n",
              "    <tr>\n",
              "      <th>328</th>\n",
              "      <td>38.0</td>\n",
              "      <td>Female</td>\n",
              "      <td>Bachelor's</td>\n",
              "      <td>Senior Business Analyst</td>\n",
              "      <td>10.0</td>\n",
              "      <td>110000.0</td>\n",
              "    </tr>\n",
              "    <tr>\n",
              "      <th>345</th>\n",
              "      <td>33.0</td>\n",
              "      <td>Male</td>\n",
              "      <td>Bachelor's</td>\n",
              "      <td>Junior Business Analyst</td>\n",
              "      <td>4.0</td>\n",
              "      <td>60000.0</td>\n",
              "    </tr>\n",
              "    <tr>\n",
              "      <th>346</th>\n",
              "      <td>35.0</td>\n",
              "      <td>Female</td>\n",
              "      <td>Bachelor's</td>\n",
              "      <td>Senior Marketing Analyst</td>\n",
              "      <td>8.0</td>\n",
              "      <td>85000.0</td>\n",
              "    </tr>\n",
              "    <tr>\n",
              "      <th>352</th>\n",
              "      <td>38.0</td>\n",
              "      <td>Female</td>\n",
              "      <td>Bachelor's</td>\n",
              "      <td>Senior Business Analyst</td>\n",
              "      <td>10.0</td>\n",
              "      <td>110000.0</td>\n",
              "    </tr>\n",
              "    <tr>\n",
              "      <th>353</th>\n",
              "      <td>48.0</td>\n",
              "      <td>Male</td>\n",
              "      <td>Master's</td>\n",
              "      <td>Director of Marketing</td>\n",
              "      <td>21.0</td>\n",
              "      <td>180000.0</td>\n",
              "    </tr>\n",
              "    <tr>\n",
              "      <th>354</th>\n",
              "      <td>31.0</td>\n",
              "      <td>Female</td>\n",
              "      <td>Bachelor's</td>\n",
              "      <td>Junior Business Development Associate</td>\n",
              "      <td>3.0</td>\n",
              "      <td>50000.0</td>\n",
              "    </tr>\n",
              "    <tr>\n",
              "      <th>355</th>\n",
              "      <td>40.0</td>\n",
              "      <td>Male</td>\n",
              "      <td>Bachelor's</td>\n",
              "      <td>Senior Financial Analyst</td>\n",
              "      <td>12.0</td>\n",
              "      <td>130000.0</td>\n",
              "    </tr>\n",
              "    <tr>\n",
              "      <th>356</th>\n",
              "      <td>45.0</td>\n",
              "      <td>Female</td>\n",
              "      <td>PhD</td>\n",
              "      <td>Senior UX Designer</td>\n",
              "      <td>16.0</td>\n",
              "      <td>160000.0</td>\n",
              "    </tr>\n",
              "    <tr>\n",
              "      <th>357</th>\n",
              "      <td>33.0</td>\n",
              "      <td>Male</td>\n",
              "      <td>Bachelor's</td>\n",
              "      <td>Junior Product Manager</td>\n",
              "      <td>4.0</td>\n",
              "      <td>60000.0</td>\n",
              "    </tr>\n",
              "    <tr>\n",
              "      <th>358</th>\n",
              "      <td>36.0</td>\n",
              "      <td>Female</td>\n",
              "      <td>Bachelor's</td>\n",
              "      <td>Senior Marketing Manager</td>\n",
              "      <td>8.0</td>\n",
              "      <td>95000.0</td>\n",
              "    </tr>\n",
              "    <tr>\n",
              "      <th>359</th>\n",
              "      <td>47.0</td>\n",
              "      <td>Male</td>\n",
              "      <td>Master's</td>\n",
              "      <td>Director of Operations</td>\n",
              "      <td>19.0</td>\n",
              "      <td>170000.0</td>\n",
              "    </tr>\n",
              "    <tr>\n",
              "      <th>360</th>\n",
              "      <td>29.0</td>\n",
              "      <td>Female</td>\n",
              "      <td>Bachelor's</td>\n",
              "      <td>Junior Project Manager</td>\n",
              "      <td>2.0</td>\n",
              "      <td>40000.0</td>\n",
              "    </tr>\n",
              "    <tr>\n",
              "      <th>361</th>\n",
              "      <td>34.0</td>\n",
              "      <td>Male</td>\n",
              "      <td>Bachelor's</td>\n",
              "      <td>Senior Operations Coordinator</td>\n",
              "      <td>7.0</td>\n",
              "      <td>90000.0</td>\n",
              "    </tr>\n",
              "    <tr>\n",
              "      <th>362</th>\n",
              "      <td>44.0</td>\n",
              "      <td>Female</td>\n",
              "      <td>PhD</td>\n",
              "      <td>Senior Business Analyst</td>\n",
              "      <td>15.0</td>\n",
              "      <td>150000.0</td>\n",
              "    </tr>\n",
              "    <tr>\n",
              "      <th>363</th>\n",
              "      <td>33.0</td>\n",
              "      <td>Male</td>\n",
              "      <td>Bachelor's</td>\n",
              "      <td>Junior Marketing Specialist</td>\n",
              "      <td>5.0</td>\n",
              "      <td>70000.0</td>\n",
              "    </tr>\n",
              "    <tr>\n",
              "      <th>364</th>\n",
              "      <td>35.0</td>\n",
              "      <td>Female</td>\n",
              "      <td>Bachelor's</td>\n",
              "      <td>Senior Financial Manager</td>\n",
              "      <td>8.0</td>\n",
              "      <td>90000.0</td>\n",
              "    </tr>\n",
              "    <tr>\n",
              "      <th>365</th>\n",
              "      <td>43.0</td>\n",
              "      <td>Male</td>\n",
              "      <td>Master's</td>\n",
              "      <td>Director of Marketing</td>\n",
              "      <td>18.0</td>\n",
              "      <td>170000.0</td>\n",
              "    </tr>\n",
              "    <tr>\n",
              "      <th>366</th>\n",
              "      <td>31.0</td>\n",
              "      <td>Female</td>\n",
              "      <td>Bachelor's</td>\n",
              "      <td>Junior Financial Analyst</td>\n",
              "      <td>3.0</td>\n",
              "      <td>50000.0</td>\n",
              "    </tr>\n",
              "    <tr>\n",
              "      <th>367</th>\n",
              "      <td>41.0</td>\n",
              "      <td>Male</td>\n",
              "      <td>Bachelor's</td>\n",
              "      <td>Senior Product Manager</td>\n",
              "      <td>14.0</td>\n",
              "      <td>150000.0</td>\n",
              "    </tr>\n",
              "    <tr>\n",
              "      <th>368</th>\n",
              "      <td>44.0</td>\n",
              "      <td>Female</td>\n",
              "      <td>PhD</td>\n",
              "      <td>Senior Data Engineer</td>\n",
              "      <td>16.0</td>\n",
              "      <td>160000.0</td>\n",
              "    </tr>\n",
              "    <tr>\n",
              "      <th>369</th>\n",
              "      <td>33.0</td>\n",
              "      <td>Male</td>\n",
              "      <td>Bachelor's</td>\n",
              "      <td>Junior Business Analyst</td>\n",
              "      <td>4.0</td>\n",
              "      <td>60000.0</td>\n",
              "    </tr>\n",
              "    <tr>\n",
              "      <th>370</th>\n",
              "      <td>35.0</td>\n",
              "      <td>Female</td>\n",
              "      <td>Bachelor's</td>\n",
              "      <td>Senior Marketing Analyst</td>\n",
              "      <td>8.0</td>\n",
              "      <td>85000.0</td>\n",
              "    </tr>\n",
              "    <tr>\n",
              "      <th>372</th>\n",
              "      <td>29.0</td>\n",
              "      <td>Female</td>\n",
              "      <td>Bachelor's</td>\n",
              "      <td>Junior Project Manager</td>\n",
              "      <td>2.0</td>\n",
              "      <td>40000.0</td>\n",
              "    </tr>\n",
              "    <tr>\n",
              "      <th>373</th>\n",
              "      <td>34.0</td>\n",
              "      <td>Male</td>\n",
              "      <td>Bachelor's</td>\n",
              "      <td>Senior Operations Coordinator</td>\n",
              "      <td>7.0</td>\n",
              "      <td>90000.0</td>\n",
              "    </tr>\n",
              "    <tr>\n",
              "      <th>374</th>\n",
              "      <td>44.0</td>\n",
              "      <td>Female</td>\n",
              "      <td>PhD</td>\n",
              "      <td>Senior Business Analyst</td>\n",
              "      <td>15.0</td>\n",
              "      <td>150000.0</td>\n",
              "    </tr>\n",
              "  </tbody>\n",
              "</table>\n",
              "</div>"
            ],
            "text/plain": [
              "      Age  Gender      Degree                              Job_Title  \\\n",
              "195  28.0    Male  Bachelor's                Junior Business Analyst   \n",
              "250  30.0  Female  Bachelor's           Junior Marketing Coordinator   \n",
              "251  38.0    Male    Master's                   Senior IT Consultant   \n",
              "252  45.0  Female         PhD                Senior Product Designer   \n",
              "253  28.0    Male  Bachelor's  Junior Business Development Associate   \n",
              "254  35.0  Female  Bachelor's               Senior Marketing Analyst   \n",
              "255  44.0    Male  Bachelor's               Senior Software Engineer   \n",
              "256  34.0  Female    Master's               Senior Financial Advisor   \n",
              "257  35.0    Male  Bachelor's             Senior Project Coordinator   \n",
              "258  50.0  Female         PhD                 Director of Operations   \n",
              "260   NaN     NaN         NaN                                    NaN   \n",
              "262  46.0    Male         PhD                  Senior Data Scientist   \n",
              "281  41.0  Female  Bachelor's             Senior Project Coordinator   \n",
              "287  35.0  Female  Bachelor's               Senior Marketing Analyst   \n",
              "303  45.0    Male         PhD                   Senior Data Engineer   \n",
              "306  49.0  Female    Master's                  Director of Marketing   \n",
              "307  31.0    Male  Bachelor's              Junior Operations Analyst   \n",
              "309  47.0    Male    Master's                  Director of Marketing   \n",
              "310  29.0  Female  Bachelor's  Junior Business Development Associate   \n",
              "311  35.0    Male  Bachelor's               Senior Financial Manager   \n",
              "312  44.0  Female         PhD                Senior Product Designer   \n",
              "313  33.0    Male  Bachelor's                Junior Business Analyst   \n",
              "314  35.0  Female  Bachelor's               Senior Marketing Analyst   \n",
              "315  44.0    Male  Bachelor's               Senior Software Engineer   \n",
              "317  36.0    Male  Bachelor's            Senior Marketing Specialist   \n",
              "328  38.0  Female  Bachelor's                Senior Business Analyst   \n",
              "345  33.0    Male  Bachelor's                Junior Business Analyst   \n",
              "346  35.0  Female  Bachelor's               Senior Marketing Analyst   \n",
              "352  38.0  Female  Bachelor's                Senior Business Analyst   \n",
              "353  48.0    Male    Master's                  Director of Marketing   \n",
              "354  31.0  Female  Bachelor's  Junior Business Development Associate   \n",
              "355  40.0    Male  Bachelor's               Senior Financial Analyst   \n",
              "356  45.0  Female         PhD                     Senior UX Designer   \n",
              "357  33.0    Male  Bachelor's                 Junior Product Manager   \n",
              "358  36.0  Female  Bachelor's               Senior Marketing Manager   \n",
              "359  47.0    Male    Master's                 Director of Operations   \n",
              "360  29.0  Female  Bachelor's                 Junior Project Manager   \n",
              "361  34.0    Male  Bachelor's          Senior Operations Coordinator   \n",
              "362  44.0  Female         PhD                Senior Business Analyst   \n",
              "363  33.0    Male  Bachelor's            Junior Marketing Specialist   \n",
              "364  35.0  Female  Bachelor's               Senior Financial Manager   \n",
              "365  43.0    Male    Master's                  Director of Marketing   \n",
              "366  31.0  Female  Bachelor's               Junior Financial Analyst   \n",
              "367  41.0    Male  Bachelor's                 Senior Product Manager   \n",
              "368  44.0  Female         PhD                   Senior Data Engineer   \n",
              "369  33.0    Male  Bachelor's                Junior Business Analyst   \n",
              "370  35.0  Female  Bachelor's               Senior Marketing Analyst   \n",
              "372  29.0  Female  Bachelor's                 Junior Project Manager   \n",
              "373  34.0    Male  Bachelor's          Senior Operations Coordinator   \n",
              "374  44.0  Female         PhD                Senior Business Analyst   \n",
              "\n",
              "     Experience_Years    Salary  \n",
              "195               2.0   40000.0  \n",
              "250               2.0   40000.0  \n",
              "251               9.0  110000.0  \n",
              "252              15.0  150000.0  \n",
              "253               2.0   40000.0  \n",
              "254               8.0   85000.0  \n",
              "255              14.0  130000.0  \n",
              "256               6.0  100000.0  \n",
              "257               9.0   95000.0  \n",
              "258              22.0  180000.0  \n",
              "260               NaN       NaN  \n",
              "262              18.0  160000.0  \n",
              "281              11.0   95000.0  \n",
              "287               8.0   85000.0  \n",
              "303              16.0  150000.0  \n",
              "306              21.0  180000.0  \n",
              "307               3.0   50000.0  \n",
              "309              19.0  170000.0  \n",
              "310               1.5   35000.0  \n",
              "311               9.0  100000.0  \n",
              "312              15.0  150000.0  \n",
              "313               4.0   60000.0  \n",
              "314               8.0   85000.0  \n",
              "315              13.0  130000.0  \n",
              "317               8.0   95000.0  \n",
              "328              10.0  110000.0  \n",
              "345               4.0   60000.0  \n",
              "346               8.0   85000.0  \n",
              "352              10.0  110000.0  \n",
              "353              21.0  180000.0  \n",
              "354               3.0   50000.0  \n",
              "355              12.0  130000.0  \n",
              "356              16.0  160000.0  \n",
              "357               4.0   60000.0  \n",
              "358               8.0   95000.0  \n",
              "359              19.0  170000.0  \n",
              "360               2.0   40000.0  \n",
              "361               7.0   90000.0  \n",
              "362              15.0  150000.0  \n",
              "363               5.0   70000.0  \n",
              "364               8.0   90000.0  \n",
              "365              18.0  170000.0  \n",
              "366               3.0   50000.0  \n",
              "367              14.0  150000.0  \n",
              "368              16.0  160000.0  \n",
              "369               4.0   60000.0  \n",
              "370               8.0   85000.0  \n",
              "372               2.0   40000.0  \n",
              "373               7.0   90000.0  \n",
              "374              15.0  150000.0  "
            ]
          },
          "execution_count": 57,
          "metadata": {},
          "output_type": "execute_result"
        }
      ],
      "source": [
        "df[df.duplicated()]"
      ]
    },
    {
      "cell_type": "code",
      "execution_count": 58,
      "metadata": {
        "colab": {
          "base_uri": "https://localhost:8080/"
        },
        "id": "E4quLq6t50WD",
        "outputId": "d292f739-7289-486f-8d66-a3ab32cfa7de"
      },
      "outputs": [
        {
          "data": {
            "text/plain": [
              "(50, 6)"
            ]
          },
          "execution_count": 58,
          "metadata": {},
          "output_type": "execute_result"
        }
      ],
      "source": [
        "df[df.duplicated()].shape"
      ]
    },
    {
      "cell_type": "code",
      "execution_count": 59,
      "metadata": {
        "id": "DCPXIJGi50Ss"
      },
      "outputs": [],
      "source": [
        "sal_df = df.drop_duplicates(keep='first')"
      ]
    },
    {
      "cell_type": "code",
      "execution_count": 60,
      "metadata": {
        "colab": {
          "base_uri": "https://localhost:8080/"
        },
        "id": "SI1RYVyE50Ov",
        "outputId": "57439199-74b0-483f-f897-f38c7f208349"
      },
      "outputs": [
        {
          "data": {
            "text/plain": [
              "(325, 6)"
            ]
          },
          "execution_count": 60,
          "metadata": {},
          "output_type": "execute_result"
        }
      ],
      "source": [
        "sal_df.shape"
      ]
    },
    {
      "cell_type": "code",
      "execution_count": 61,
      "metadata": {
        "colab": {
          "base_uri": "https://localhost:8080/",
          "height": 272
        },
        "id": "5rtZCfxarve9",
        "outputId": "f349a1a2-a9bf-4a07-daa3-43cc32d37363"
      },
      "outputs": [
        {
          "data": {
            "text/plain": [
              "Age                 1\n",
              "Gender              1\n",
              "Degree              1\n",
              "Job_Title           1\n",
              "Experience_Years    1\n",
              "Salary              1\n",
              "dtype: int64"
            ]
          },
          "execution_count": 61,
          "metadata": {},
          "output_type": "execute_result"
        }
      ],
      "source": [
        "sal_df.isna().sum()"
      ]
    },
    {
      "cell_type": "code",
      "execution_count": 62,
      "metadata": {
        "colab": {
          "base_uri": "https://localhost:8080/"
        },
        "id": "fn0sjZCP7Ad5",
        "outputId": "bcfc89b7-c492-4de1-cf48-5bd28223b76c"
      },
      "outputs": [
        {
          "name": "stderr",
          "output_type": "stream",
          "text": [
            "C:\\Users\\NEHA SHUKLA\\AppData\\Local\\Temp\\ipykernel_20232\\3642046214.py:1: SettingWithCopyWarning: \n",
            "A value is trying to be set on a copy of a slice from a DataFrame\n",
            "\n",
            "See the caveats in the documentation: https://pandas.pydata.org/pandas-docs/stable/user_guide/indexing.html#returning-a-view-versus-a-copy\n",
            "  sal_df.dropna(how = 'any', inplace=True)\n"
          ]
        }
      ],
      "source": [
        "sal_df.dropna(how = 'any', inplace=True)"
      ]
    },
    {
      "cell_type": "code",
      "execution_count": 63,
      "metadata": {
        "colab": {
          "base_uri": "https://localhost:8080/"
        },
        "id": "ifxYqKoJ7AZd",
        "outputId": "f8fbbfad-0f8e-4a94-deb1-4c9160f33f77"
      },
      "outputs": [
        {
          "data": {
            "text/plain": [
              "(324, 6)"
            ]
          },
          "execution_count": 63,
          "metadata": {},
          "output_type": "execute_result"
        }
      ],
      "source": [
        "sal_df.shape"
      ]
    },
    {
      "cell_type": "code",
      "execution_count": 64,
      "metadata": {
        "colab": {
          "base_uri": "https://localhost:8080/",
          "height": 206
        },
        "id": "s6iLBbXo7tL2",
        "outputId": "14c0a1f2-df18-453a-fc5f-70992f9e6a74"
      },
      "outputs": [
        {
          "data": {
            "text/html": [
              "<div>\n",
              "<style scoped>\n",
              "    .dataframe tbody tr th:only-of-type {\n",
              "        vertical-align: middle;\n",
              "    }\n",
              "\n",
              "    .dataframe tbody tr th {\n",
              "        vertical-align: top;\n",
              "    }\n",
              "\n",
              "    .dataframe thead th {\n",
              "        text-align: right;\n",
              "    }\n",
              "</style>\n",
              "<table border=\"1\" class=\"dataframe\">\n",
              "  <thead>\n",
              "    <tr style=\"text-align: right;\">\n",
              "      <th></th>\n",
              "      <th>Age</th>\n",
              "      <th>Gender</th>\n",
              "      <th>Degree</th>\n",
              "      <th>Job_Title</th>\n",
              "      <th>Experience_Years</th>\n",
              "      <th>Salary</th>\n",
              "    </tr>\n",
              "  </thead>\n",
              "  <tbody>\n",
              "    <tr>\n",
              "      <th>12</th>\n",
              "      <td>35.0</td>\n",
              "      <td>Male</td>\n",
              "      <td>Bachelor's</td>\n",
              "      <td>Financial Analyst</td>\n",
              "      <td>6.0</td>\n",
              "      <td>65000.0</td>\n",
              "    </tr>\n",
              "    <tr>\n",
              "      <th>54</th>\n",
              "      <td>29.0</td>\n",
              "      <td>Female</td>\n",
              "      <td>Bachelor's</td>\n",
              "      <td>Graphic Designer</td>\n",
              "      <td>3.0</td>\n",
              "      <td>50000.0</td>\n",
              "    </tr>\n",
              "    <tr>\n",
              "      <th>94</th>\n",
              "      <td>33.0</td>\n",
              "      <td>Male</td>\n",
              "      <td>Bachelor's</td>\n",
              "      <td>Business Analyst</td>\n",
              "      <td>7.0</td>\n",
              "      <td>75000.0</td>\n",
              "    </tr>\n",
              "    <tr>\n",
              "      <th>151</th>\n",
              "      <td>36.0</td>\n",
              "      <td>Male</td>\n",
              "      <td>Master's</td>\n",
              "      <td>Senior Business Development Manager</td>\n",
              "      <td>11.0</td>\n",
              "      <td>120000.0</td>\n",
              "    </tr>\n",
              "    <tr>\n",
              "      <th>292</th>\n",
              "      <td>29.0</td>\n",
              "      <td>Female</td>\n",
              "      <td>Bachelor's</td>\n",
              "      <td>Junior Marketing Specialist</td>\n",
              "      <td>2.0</td>\n",
              "      <td>40000.0</td>\n",
              "    </tr>\n",
              "  </tbody>\n",
              "</table>\n",
              "</div>"
            ],
            "text/plain": [
              "      Age  Gender      Degree                            Job_Title  \\\n",
              "12   35.0    Male  Bachelor's                    Financial Analyst   \n",
              "54   29.0  Female  Bachelor's                     Graphic Designer   \n",
              "94   33.0    Male  Bachelor's                     Business Analyst   \n",
              "151  36.0    Male    Master's  Senior Business Development Manager   \n",
              "292  29.0  Female  Bachelor's          Junior Marketing Specialist   \n",
              "\n",
              "     Experience_Years    Salary  \n",
              "12                6.0   65000.0  \n",
              "54                3.0   50000.0  \n",
              "94                7.0   75000.0  \n",
              "151              11.0  120000.0  \n",
              "292               2.0   40000.0  "
            ]
          },
          "execution_count": 64,
          "metadata": {},
          "output_type": "execute_result"
        }
      ],
      "source": [
        "sal_df.sample(5)"
      ]
    },
    {
      "cell_type": "code",
      "execution_count": 65,
      "metadata": {
        "colab": {
          "base_uri": "https://localhost:8080/",
          "height": 363
        },
        "id": "TCdQ1zom78st",
        "outputId": "1411e9c4-ffb5-4736-df6b-b8a1d66465ba"
      },
      "outputs": [
        {
          "data": {
            "text/html": [
              "<div>\n",
              "<style scoped>\n",
              "    .dataframe tbody tr th:only-of-type {\n",
              "        vertical-align: middle;\n",
              "    }\n",
              "\n",
              "    .dataframe tbody tr th {\n",
              "        vertical-align: top;\n",
              "    }\n",
              "\n",
              "    .dataframe thead th {\n",
              "        text-align: right;\n",
              "    }\n",
              "</style>\n",
              "<table border=\"1\" class=\"dataframe\">\n",
              "  <thead>\n",
              "    <tr style=\"text-align: right;\">\n",
              "      <th></th>\n",
              "      <th>Age</th>\n",
              "      <th>Gender</th>\n",
              "      <th>Degree</th>\n",
              "      <th>Job_Title</th>\n",
              "      <th>Experience_Years</th>\n",
              "      <th>Salary</th>\n",
              "    </tr>\n",
              "  </thead>\n",
              "  <tbody>\n",
              "    <tr>\n",
              "      <th>0</th>\n",
              "      <td>32.0</td>\n",
              "      <td>Male</td>\n",
              "      <td>Bachelor's</td>\n",
              "      <td>Software Engineer</td>\n",
              "      <td>5.0</td>\n",
              "      <td>90000.0</td>\n",
              "    </tr>\n",
              "    <tr>\n",
              "      <th>1</th>\n",
              "      <td>28.0</td>\n",
              "      <td>Female</td>\n",
              "      <td>Master's</td>\n",
              "      <td>Data Analyst</td>\n",
              "      <td>3.0</td>\n",
              "      <td>65000.0</td>\n",
              "    </tr>\n",
              "    <tr>\n",
              "      <th>2</th>\n",
              "      <td>45.0</td>\n",
              "      <td>Male</td>\n",
              "      <td>PhD</td>\n",
              "      <td>Senior Manager</td>\n",
              "      <td>15.0</td>\n",
              "      <td>150000.0</td>\n",
              "    </tr>\n",
              "    <tr>\n",
              "      <th>3</th>\n",
              "      <td>36.0</td>\n",
              "      <td>Female</td>\n",
              "      <td>Bachelor's</td>\n",
              "      <td>Sales Associate</td>\n",
              "      <td>7.0</td>\n",
              "      <td>60000.0</td>\n",
              "    </tr>\n",
              "    <tr>\n",
              "      <th>4</th>\n",
              "      <td>52.0</td>\n",
              "      <td>Male</td>\n",
              "      <td>Master's</td>\n",
              "      <td>Director</td>\n",
              "      <td>20.0</td>\n",
              "      <td>200000.0</td>\n",
              "    </tr>\n",
              "    <tr>\n",
              "      <th>5</th>\n",
              "      <td>29.0</td>\n",
              "      <td>Male</td>\n",
              "      <td>Bachelor's</td>\n",
              "      <td>Marketing Analyst</td>\n",
              "      <td>2.0</td>\n",
              "      <td>55000.0</td>\n",
              "    </tr>\n",
              "    <tr>\n",
              "      <th>6</th>\n",
              "      <td>42.0</td>\n",
              "      <td>Female</td>\n",
              "      <td>Master's</td>\n",
              "      <td>Product Manager</td>\n",
              "      <td>12.0</td>\n",
              "      <td>120000.0</td>\n",
              "    </tr>\n",
              "    <tr>\n",
              "      <th>7</th>\n",
              "      <td>31.0</td>\n",
              "      <td>Male</td>\n",
              "      <td>Bachelor's</td>\n",
              "      <td>Sales Manager</td>\n",
              "      <td>4.0</td>\n",
              "      <td>80000.0</td>\n",
              "    </tr>\n",
              "    <tr>\n",
              "      <th>8</th>\n",
              "      <td>26.0</td>\n",
              "      <td>Female</td>\n",
              "      <td>Bachelor's</td>\n",
              "      <td>Marketing Coordinator</td>\n",
              "      <td>1.0</td>\n",
              "      <td>45000.0</td>\n",
              "    </tr>\n",
              "    <tr>\n",
              "      <th>9</th>\n",
              "      <td>38.0</td>\n",
              "      <td>Male</td>\n",
              "      <td>PhD</td>\n",
              "      <td>Senior Scientist</td>\n",
              "      <td>10.0</td>\n",
              "      <td>110000.0</td>\n",
              "    </tr>\n",
              "  </tbody>\n",
              "</table>\n",
              "</div>"
            ],
            "text/plain": [
              "    Age  Gender      Degree              Job_Title  Experience_Years    Salary\n",
              "0  32.0    Male  Bachelor's      Software Engineer               5.0   90000.0\n",
              "1  28.0  Female    Master's           Data Analyst               3.0   65000.0\n",
              "2  45.0    Male         PhD         Senior Manager              15.0  150000.0\n",
              "3  36.0  Female  Bachelor's        Sales Associate               7.0   60000.0\n",
              "4  52.0    Male    Master's               Director              20.0  200000.0\n",
              "5  29.0    Male  Bachelor's      Marketing Analyst               2.0   55000.0\n",
              "6  42.0  Female    Master's        Product Manager              12.0  120000.0\n",
              "7  31.0    Male  Bachelor's          Sales Manager               4.0   80000.0\n",
              "8  26.0  Female  Bachelor's  Marketing Coordinator               1.0   45000.0\n",
              "9  38.0    Male         PhD       Senior Scientist              10.0  110000.0"
            ]
          },
          "execution_count": 65,
          "metadata": {},
          "output_type": "execute_result"
        }
      ],
      "source": [
        "sal_df.head(10)"
      ]
    },
    {
      "cell_type": "code",
      "execution_count": 66,
      "metadata": {
        "colab": {
          "base_uri": "https://localhost:8080/"
        },
        "id": "AyPpF0WhrycT",
        "outputId": "bbcaa9c5-e34e-47eb-f2ef-eb491106dcd4"
      },
      "outputs": [
        {
          "name": "stdout",
          "output_type": "stream",
          "text": [
            "Degree\n",
            "Bachelor's    191\n",
            "Master's       91\n",
            "PhD            42\n",
            "Name: count, dtype: int64\n"
          ]
        }
      ],
      "source": [
        "print(sal_df['Degree'].value_counts())"
      ]
    },
    {
      "cell_type": "code",
      "execution_count": 67,
      "metadata": {
        "colab": {
          "base_uri": "https://localhost:8080/"
        },
        "id": "c-imSNRCtQ-X",
        "outputId": "44b9b682-485b-4ded-a6aa-0b1db6c11a78"
      },
      "outputs": [
        {
          "name": "stdout",
          "output_type": "stream",
          "text": [
            "Gender\n",
            "Male      170\n",
            "Female    154\n",
            "Name: count, dtype: int64\n"
          ]
        }
      ],
      "source": [
        "print(sal_df['Gender'].value_counts())"
      ]
    },
    {
      "cell_type": "code",
      "execution_count": 68,
      "metadata": {
        "colab": {
          "base_uri": "https://localhost:8080/"
        },
        "id": "UzHIN8kettWn",
        "outputId": "acc05f95-3211-4a58-c99f-f6104f7f8d44"
      },
      "outputs": [
        {
          "name": "stdout",
          "output_type": "stream",
          "text": [
            "Job_Title\n",
            "Director of Operations             9\n",
            "Director of Marketing              8\n",
            "Senior Marketing Manager           8\n",
            "Senior Project Manager             7\n",
            "Senior Business Analyst            6\n",
            "                                  ..\n",
            "Business Development Manager       1\n",
            "Customer Service Representative    1\n",
            "IT Manager                         1\n",
            "Digital Marketing Manager          1\n",
            "Junior Web Developer               1\n",
            "Name: count, Length: 174, dtype: int64\n"
          ]
        }
      ],
      "source": [
        "print(sal_df['Job_Title'].value_counts())"
      ]
    },
    {
      "cell_type": "code",
      "execution_count": 69,
      "metadata": {
        "colab": {
          "base_uri": "https://localhost:8080/"
        },
        "id": "Fk516j1Nt3SJ",
        "outputId": "2ff60c3e-6075-493a-d393-083ace094111"
      },
      "outputs": [
        {
          "name": "stdout",
          "output_type": "stream",
          "text": [
            "Experience_Years\n",
            "3.0     27\n",
            "2.0     26\n",
            "9.0     19\n",
            "8.0     17\n",
            "5.0     16\n",
            "7.0     16\n",
            "4.0     16\n",
            "10.0    16\n",
            "16.0    15\n",
            "12.0    14\n",
            "20.0    13\n",
            "19.0    13\n",
            "15.0    12\n",
            "21.0    11\n",
            "1.5     11\n",
            "14.0    11\n",
            "6.0     11\n",
            "18.0    11\n",
            "13.0    10\n",
            "11.0     9\n",
            "22.0     8\n",
            "1.0      7\n",
            "17.0     5\n",
            "25.0     3\n",
            "0.0      3\n",
            "23.0     2\n",
            "24.0     1\n",
            "0.5      1\n",
            "Name: count, dtype: int64\n"
          ]
        }
      ],
      "source": [
        "print(sal_df['Experience_Years'].value_counts())"
      ]
    },
    {
      "cell_type": "code",
      "execution_count": 70,
      "metadata": {
        "colab": {
          "base_uri": "https://localhost:8080/"
        },
        "id": "CKzZ8ABauQc7",
        "outputId": "bfff8aad-604d-48ee-d651-f3c95217a5f4"
      },
      "outputs": [
        {
          "name": "stdout",
          "output_type": "stream",
          "text": [
            "Age\n",
            "29.0    20\n",
            "33.0    19\n",
            "36.0    18\n",
            "31.0    18\n",
            "44.0    15\n",
            "45.0    14\n",
            "30.0    14\n",
            "34.0    14\n",
            "35.0    14\n",
            "47.0    13\n",
            "37.0    12\n",
            "39.0    12\n",
            "32.0    12\n",
            "40.0    12\n",
            "38.0    12\n",
            "42.0    11\n",
            "28.0    11\n",
            "43.0    11\n",
            "41.0    10\n",
            "46.0     9\n",
            "27.0     9\n",
            "48.0     8\n",
            "26.0     7\n",
            "50.0     7\n",
            "49.0     7\n",
            "51.0     5\n",
            "25.0     4\n",
            "52.0     3\n",
            "24.0     1\n",
            "23.0     1\n",
            "53.0     1\n",
            "Name: count, dtype: int64\n"
          ]
        }
      ],
      "source": [
        "print(sal_df['Age'].value_counts())"
      ]
    },
    {
      "cell_type": "code",
      "execution_count": 71,
      "metadata": {
        "colab": {
          "base_uri": "https://localhost:8080/",
          "height": 430
        },
        "id": "gwfZCC3LuZaf",
        "outputId": "26cfc52d-49bf-4f97-8741-dc32925aa2cf"
      },
      "outputs": [
        {
          "data": {
            "image/png": "[encoded data removed]",
            "text/plain": [
              "<Figure size 640x480 with 1 Axes>"
            ]
          },
          "metadata": {},
          "output_type": "display_data"
        }
      ],
      "source": [
        "import matplotlib.pyplot as plt\n",
        "plt.boxplot(sal_df['Age'])\n",
        "plt.show()"
      ]
    },
    {
      "cell_type": "code",
      "execution_count": 72,
      "metadata": {
        "colab": {
          "base_uri": "https://localhost:8080/",
          "height": 533
        },
        "id": "3GFhzZWeAWF4",
        "outputId": "cf718654-1ac0-4b39-e9d3-3fb304eee134"
      },
      "outputs": [
        {
          "name": "stderr",
          "output_type": "stream",
          "text": [
            "C:\\Users\\NEHA SHUKLA\\AppData\\Local\\Temp\\ipykernel_20232\\2804049644.py:5: SettingWithCopyWarning: \n",
            "A value is trying to be set on a copy of a slice from a DataFrame.\n",
            "Try using .loc[row_indexer,col_indexer] = value instead\n",
            "\n",
            "See the caveats in the documentation: https://pandas.pydata.org/pandas-docs/stable/user_guide/indexing.html#returning-a-view-versus-a-copy\n",
            "  sal_df[col] = le.fit_transform(sal_df[col])\n",
            "C:\\Users\\NEHA SHUKLA\\AppData\\Local\\Temp\\ipykernel_20232\\2804049644.py:5: SettingWithCopyWarning: \n",
            "A value is trying to be set on a copy of a slice from a DataFrame.\n",
            "Try using .loc[row_indexer,col_indexer] = value instead\n",
            "\n",
            "See the caveats in the documentation: https://pandas.pydata.org/pandas-docs/stable/user_guide/indexing.html#returning-a-view-versus-a-copy\n",
            "  sal_df[col] = le.fit_transform(sal_df[col])\n",
            "C:\\Users\\NEHA SHUKLA\\AppData\\Local\\Temp\\ipykernel_20232\\2804049644.py:5: SettingWithCopyWarning: \n",
            "A value is trying to be set on a copy of a slice from a DataFrame.\n",
            "Try using .loc[row_indexer,col_indexer] = value instead\n",
            "\n",
            "See the caveats in the documentation: https://pandas.pydata.org/pandas-docs/stable/user_guide/indexing.html#returning-a-view-versus-a-copy\n",
            "  sal_df[col] = le.fit_transform(sal_df[col])\n"
          ]
        },
        {
          "data": {
            "text/html": [
              "<div>\n",
              "<style scoped>\n",
              "    .dataframe tbody tr th:only-of-type {\n",
              "        vertical-align: middle;\n",
              "    }\n",
              "\n",
              "    .dataframe tbody tr th {\n",
              "        vertical-align: top;\n",
              "    }\n",
              "\n",
              "    .dataframe thead th {\n",
              "        text-align: right;\n",
              "    }\n",
              "</style>\n",
              "<table border=\"1\" class=\"dataframe\">\n",
              "  <thead>\n",
              "    <tr style=\"text-align: right;\">\n",
              "      <th></th>\n",
              "      <th>Age</th>\n",
              "      <th>Gender</th>\n",
              "      <th>Degree</th>\n",
              "      <th>Job_Title</th>\n",
              "      <th>Experience_Years</th>\n",
              "      <th>Salary</th>\n",
              "    </tr>\n",
              "  </thead>\n",
              "  <tbody>\n",
              "    <tr>\n",
              "      <th>0</th>\n",
              "      <td>32.0</td>\n",
              "      <td>1</td>\n",
              "      <td>0</td>\n",
              "      <td>159</td>\n",
              "      <td>5.0</td>\n",
              "      <td>90000.0</td>\n",
              "    </tr>\n",
              "    <tr>\n",
              "      <th>1</th>\n",
              "      <td>28.0</td>\n",
              "      <td>0</td>\n",
              "      <td>1</td>\n",
              "      <td>17</td>\n",
              "      <td>3.0</td>\n",
              "      <td>65000.0</td>\n",
              "    </tr>\n",
              "    <tr>\n",
              "      <th>2</th>\n",
              "      <td>45.0</td>\n",
              "      <td>1</td>\n",
              "      <td>2</td>\n",
              "      <td>130</td>\n",
              "      <td>15.0</td>\n",
              "      <td>150000.0</td>\n",
              "    </tr>\n",
              "    <tr>\n",
              "      <th>3</th>\n",
              "      <td>36.0</td>\n",
              "      <td>0</td>\n",
              "      <td>0</td>\n",
              "      <td>101</td>\n",
              "      <td>7.0</td>\n",
              "      <td>60000.0</td>\n",
              "    </tr>\n",
              "    <tr>\n",
              "      <th>4</th>\n",
              "      <td>52.0</td>\n",
              "      <td>1</td>\n",
              "      <td>1</td>\n",
              "      <td>22</td>\n",
              "      <td>20.0</td>\n",
              "      <td>200000.0</td>\n",
              "    </tr>\n",
              "  </tbody>\n",
              "</table>\n",
              "</div>"
            ],
            "text/plain": [
              "    Age  Gender  Degree  Job_Title  Experience_Years    Salary\n",
              "0  32.0       1       0        159               5.0   90000.0\n",
              "1  28.0       0       1         17               3.0   65000.0\n",
              "2  45.0       1       2        130              15.0  150000.0\n",
              "3  36.0       0       0        101               7.0   60000.0\n",
              "4  52.0       1       1         22              20.0  200000.0"
            ]
          },
          "metadata": {},
          "output_type": "display_data"
        }
      ],
      "source": [
        "from sklearn.preprocessing import LabelEncoder\n",
        "categorical_cols = ['Gender', 'Degree', 'Job_Title']\n",
        "for col in categorical_cols:\n",
        "    le = LabelEncoder()\n",
        "    sal_df[col] = le.fit_transform(sal_df[col])\n",
        "\n",
        "display(sal_df.head())"
      ]
    },
    {
      "cell_type": "code",
      "execution_count": 73,
      "metadata": {
        "colab": {
          "base_uri": "https://localhost:8080/"
        },
        "id": "Jk5Gi24oWWQz",
        "outputId": "e4f4429d-d963-442c-e48e-f115230c44fc"
      },
      "outputs": [
        {
          "name": "stderr",
          "output_type": "stream",
          "text": [
            "C:\\Users\\NEHA SHUKLA\\AppData\\Local\\Temp\\ipykernel_20232\\3106347040.py:1: SettingWithCopyWarning: \n",
            "A value is trying to be set on a copy of a slice from a DataFrame.\n",
            "Try using .loc[row_indexer,col_indexer] = value instead\n",
            "\n",
            "See the caveats in the documentation: https://pandas.pydata.org/pandas-docs/stable/user_guide/indexing.html#returning-a-view-versus-a-copy\n",
            "  sal_df['Salary_Class'] = sal_df['Salary'].apply(lambda x: '>50K' if x > 50000 else '<=50K')\n"
          ]
        }
      ],
      "source": [
        "sal_df['Salary_Class'] = sal_df['Salary'].apply(lambda x: '>50K' if x > 50000 else '<=50K')"
      ]
    },
    {
      "cell_type": "code",
      "execution_count": 74,
      "metadata": {
        "colab": {
          "base_uri": "https://localhost:8080/",
          "height": 363
        },
        "id": "CWUNdxUwWX0B",
        "outputId": "cdbae284-fb13-4463-d043-848d4c77167b"
      },
      "outputs": [
        {
          "data": {
            "text/html": [
              "<div>\n",
              "<style scoped>\n",
              "    .dataframe tbody tr th:only-of-type {\n",
              "        vertical-align: middle;\n",
              "    }\n",
              "\n",
              "    .dataframe tbody tr th {\n",
              "        vertical-align: top;\n",
              "    }\n",
              "\n",
              "    .dataframe thead th {\n",
              "        text-align: right;\n",
              "    }\n",
              "</style>\n",
              "<table border=\"1\" class=\"dataframe\">\n",
              "  <thead>\n",
              "    <tr style=\"text-align: right;\">\n",
              "      <th></th>\n",
              "      <th>Age</th>\n",
              "      <th>Gender</th>\n",
              "      <th>Degree</th>\n",
              "      <th>Job_Title</th>\n",
              "      <th>Experience_Years</th>\n",
              "      <th>Salary</th>\n",
              "      <th>Salary_Class</th>\n",
              "    </tr>\n",
              "  </thead>\n",
              "  <tbody>\n",
              "    <tr>\n",
              "      <th>249</th>\n",
              "      <td>47.0</td>\n",
              "      <td>1</td>\n",
              "      <td>1</td>\n",
              "      <td>30</td>\n",
              "      <td>20.0</td>\n",
              "      <td>170000.0</td>\n",
              "      <td>&gt;50K</td>\n",
              "    </tr>\n",
              "    <tr>\n",
              "      <th>273</th>\n",
              "      <td>47.0</td>\n",
              "      <td>0</td>\n",
              "      <td>1</td>\n",
              "      <td>29</td>\n",
              "      <td>20.0</td>\n",
              "      <td>180000.0</td>\n",
              "      <td>&gt;50K</td>\n",
              "    </tr>\n",
              "    <tr>\n",
              "      <th>92</th>\n",
              "      <td>43.0</td>\n",
              "      <td>1</td>\n",
              "      <td>0</td>\n",
              "      <td>164</td>\n",
              "      <td>18.0</td>\n",
              "      <td>105000.0</td>\n",
              "      <td>&gt;50K</td>\n",
              "    </tr>\n",
              "    <tr>\n",
              "      <th>9</th>\n",
              "      <td>38.0</td>\n",
              "      <td>1</td>\n",
              "      <td>2</td>\n",
              "      <td>150</td>\n",
              "      <td>10.0</td>\n",
              "      <td>110000.0</td>\n",
              "      <td>&gt;50K</td>\n",
              "    </tr>\n",
              "    <tr>\n",
              "      <th>316</th>\n",
              "      <td>34.0</td>\n",
              "      <td>0</td>\n",
              "      <td>1</td>\n",
              "      <td>117</td>\n",
              "      <td>6.0</td>\n",
              "      <td>80000.0</td>\n",
              "      <td>&gt;50K</td>\n",
              "    </tr>\n",
              "    <tr>\n",
              "      <th>115</th>\n",
              "      <td>31.0</td>\n",
              "      <td>1</td>\n",
              "      <td>1</td>\n",
              "      <td>118</td>\n",
              "      <td>6.0</td>\n",
              "      <td>95000.0</td>\n",
              "      <td>&gt;50K</td>\n",
              "    </tr>\n",
              "    <tr>\n",
              "      <th>141</th>\n",
              "      <td>41.0</td>\n",
              "      <td>0</td>\n",
              "      <td>1</td>\n",
              "      <td>134</td>\n",
              "      <td>13.0</td>\n",
              "      <td>110000.0</td>\n",
              "      <td>&gt;50K</td>\n",
              "    </tr>\n",
              "    <tr>\n",
              "      <th>350</th>\n",
              "      <td>44.0</td>\n",
              "      <td>0</td>\n",
              "      <td>2</td>\n",
              "      <td>115</td>\n",
              "      <td>16.0</td>\n",
              "      <td>160000.0</td>\n",
              "      <td>&gt;50K</td>\n",
              "    </tr>\n",
              "    <tr>\n",
              "      <th>194</th>\n",
              "      <td>40.0</td>\n",
              "      <td>0</td>\n",
              "      <td>1</td>\n",
              "      <td>126</td>\n",
              "      <td>13.0</td>\n",
              "      <td>120000.0</td>\n",
              "      <td>&gt;50K</td>\n",
              "    </tr>\n",
              "    <tr>\n",
              "      <th>266</th>\n",
              "      <td>36.0</td>\n",
              "      <td>1</td>\n",
              "      <td>0</td>\n",
              "      <td>135</td>\n",
              "      <td>8.0</td>\n",
              "      <td>95000.0</td>\n",
              "      <td>&gt;50K</td>\n",
              "    </tr>\n",
              "  </tbody>\n",
              "</table>\n",
              "</div>"
            ],
            "text/plain": [
              "      Age  Gender  Degree  Job_Title  Experience_Years    Salary Salary_Class\n",
              "249  47.0       1       1         30              20.0  170000.0         >50K\n",
              "273  47.0       0       1         29              20.0  180000.0         >50K\n",
              "92   43.0       1       0        164              18.0  105000.0         >50K\n",
              "9    38.0       1       2        150              10.0  110000.0         >50K\n",
              "316  34.0       0       1        117               6.0   80000.0         >50K\n",
              "115  31.0       1       1        118               6.0   95000.0         >50K\n",
              "141  41.0       0       1        134              13.0  110000.0         >50K\n",
              "350  44.0       0       2        115              16.0  160000.0         >50K\n",
              "194  40.0       0       1        126              13.0  120000.0         >50K\n",
              "266  36.0       1       0        135               8.0   95000.0         >50K"
            ]
          },
          "execution_count": 74,
          "metadata": {},
          "output_type": "execute_result"
        }
      ],
      "source": [
        "sal_df.sample(10)"
      ]
    },
    {
      "cell_type": "code",
      "execution_count": 75,
      "metadata": {
        "colab": {
          "base_uri": "https://localhost:8080/",
          "height": 430
        },
        "id": "xnkEH9ebujjX",
        "outputId": "bc1c6c3d-2722-48ee-f254-292842b5c966"
      },
      "outputs": [
        {
          "data": {
            "text/html": [
              "<div>\n",
              "<style scoped>\n",
              "    .dataframe tbody tr th:only-of-type {\n",
              "        vertical-align: middle;\n",
              "    }\n",
              "\n",
              "    .dataframe tbody tr th {\n",
              "        vertical-align: top;\n",
              "    }\n",
              "\n",
              "    .dataframe thead th {\n",
              "        text-align: right;\n",
              "    }\n",
              "</style>\n",
              "<table border=\"1\" class=\"dataframe\">\n",
              "  <thead>\n",
              "    <tr style=\"text-align: right;\">\n",
              "      <th></th>\n",
              "      <th>Age</th>\n",
              "      <th>Gender</th>\n",
              "      <th>Degree</th>\n",
              "      <th>Job_Title</th>\n",
              "      <th>Experience_Years</th>\n",
              "    </tr>\n",
              "  </thead>\n",
              "  <tbody>\n",
              "    <tr>\n",
              "      <th>0</th>\n",
              "      <td>32.0</td>\n",
              "      <td>1</td>\n",
              "      <td>0</td>\n",
              "      <td>159</td>\n",
              "      <td>5.0</td>\n",
              "    </tr>\n",
              "    <tr>\n",
              "      <th>1</th>\n",
              "      <td>28.0</td>\n",
              "      <td>0</td>\n",
              "      <td>1</td>\n",
              "      <td>17</td>\n",
              "      <td>3.0</td>\n",
              "    </tr>\n",
              "    <tr>\n",
              "      <th>2</th>\n",
              "      <td>45.0</td>\n",
              "      <td>1</td>\n",
              "      <td>2</td>\n",
              "      <td>130</td>\n",
              "      <td>15.0</td>\n",
              "    </tr>\n",
              "    <tr>\n",
              "      <th>3</th>\n",
              "      <td>36.0</td>\n",
              "      <td>0</td>\n",
              "      <td>0</td>\n",
              "      <td>101</td>\n",
              "      <td>7.0</td>\n",
              "    </tr>\n",
              "    <tr>\n",
              "      <th>4</th>\n",
              "      <td>52.0</td>\n",
              "      <td>1</td>\n",
              "      <td>1</td>\n",
              "      <td>22</td>\n",
              "      <td>20.0</td>\n",
              "    </tr>\n",
              "  </tbody>\n",
              "</table>\n",
              "</div>"
            ],
            "text/plain": [
              "    Age  Gender  Degree  Job_Title  Experience_Years\n",
              "0  32.0       1       0        159               5.0\n",
              "1  28.0       0       1         17               3.0\n",
              "2  45.0       1       2        130              15.0\n",
              "3  36.0       0       0        101               7.0\n",
              "4  52.0       1       1         22              20.0"
            ]
          },
          "metadata": {},
          "output_type": "display_data"
        },
        {
          "data": {
            "text/plain": [
              "0    >50K\n",
              "1    >50K\n",
              "2    >50K\n",
              "3    >50K\n",
              "4    >50K\n",
              "Name: Salary_Class, dtype: object"
            ]
          },
          "metadata": {},
          "output_type": "display_data"
        }
      ],
      "source": [
        "# Drop the original 'Salary' column and separate features (x) and target (y)\n",
        "x = sal_df.drop(columns=['Salary', 'Salary_Class'])\n",
        "y = sal_df['Salary_Class']\n",
        "\n",
        "display(x.head())\n",
        "display(y.head())"
      ]
    },
    {
      "cell_type": "code",
      "execution_count": 76,
      "metadata": {},
      "outputs": [],
      "source": [
        "from sklearn.model_selection import train_test_split"
      ]
    },
    {
      "cell_type": "code",
      "execution_count": 77,
      "metadata": {
        "id": "mFPjhNmlwjok"
      },
      "outputs": [],
      "source": [
        "X_train, X_test, y_train, y_test = train_test_split(x, y, test_size=0.2, random_state=42)"
      ]
    },
    {
      "cell_type": "code",
      "execution_count": 78,
      "metadata": {
        "id": "FbtpJ4yUBx5h"
      },
      "outputs": [],
      "source": [
        "from sklearn.pipeline import Pipeline\n",
        "from sklearn.model_selection import train_test_split\n",
        "from sklearn.metrics import accuracy_score, classification_report\n",
        "from sklearn.linear_model import LogisticRegression\n",
        "from sklearn.ensemble import RandomForestClassifier, GradientBoostingClassifier\n",
        "from sklearn.neighbors import KNeighborsClassifier\n",
        "from sklearn.svm import SVC\n",
        "from sklearn.preprocessing import StandardScaler, OneHotEncoder"
      ]
    },
    {
      "cell_type": "code",
      "execution_count": 79,
      "metadata": {
        "colab": {
          "base_uri": "https://localhost:8080/"
        },
        "id": "Dp5YjLO5BsXm",
        "outputId": "a8569a8a-e3b1-4c73-88cb-4a6efec026d7"
      },
      "outputs": [
        {
          "name": "stdout",
          "output_type": "stream",
          "text": [
            "LogisticRegression Accuracy: 0.9231\n",
            "              precision    recall  f1-score   support\n",
            "\n",
            "       <=50K       0.74      1.00      0.85        14\n",
            "        >50K       1.00      0.90      0.95        51\n",
            "\n",
            "    accuracy                           0.92        65\n",
            "   macro avg       0.87      0.95      0.90        65\n",
            "weighted avg       0.94      0.92      0.93        65\n",
            "\n",
            "RandomForest Accuracy: 0.9385\n",
            "              precision    recall  f1-score   support\n",
            "\n",
            "       <=50K       0.78      1.00      0.88        14\n",
            "        >50K       1.00      0.92      0.96        51\n",
            "\n",
            "    accuracy                           0.94        65\n",
            "   macro avg       0.89      0.96      0.92        65\n",
            "weighted avg       0.95      0.94      0.94        65\n",
            "\n",
            "KNN Accuracy: 0.8923\n",
            "              precision    recall  f1-score   support\n",
            "\n",
            "       <=50K       0.68      0.93      0.79        14\n",
            "        >50K       0.98      0.88      0.93        51\n",
            "\n",
            "    accuracy                           0.89        65\n",
            "   macro avg       0.83      0.91      0.86        65\n",
            "weighted avg       0.91      0.89      0.90        65\n",
            "\n",
            "SVM Accuracy: 0.8923\n",
            "              precision    recall  f1-score   support\n",
            "\n",
            "       <=50K       0.68      0.93      0.79        14\n",
            "        >50K       0.98      0.88      0.93        51\n",
            "\n",
            "    accuracy                           0.89        65\n",
            "   macro avg       0.83      0.91      0.86        65\n",
            "weighted avg       0.91      0.89      0.90        65\n",
            "\n",
            "GradientBoosting Accuracy: 0.9385\n",
            "              precision    recall  f1-score   support\n",
            "\n",
            "       <=50K       0.81      0.93      0.87        14\n",
            "        >50K       0.98      0.94      0.96        51\n",
            "\n",
            "    accuracy                           0.94        65\n",
            "   macro avg       0.90      0.93      0.91        65\n",
            "weighted avg       0.94      0.94      0.94        65\n",
            "\n"
          ]
        }
      ],
      "source": [
        "models = {\n",
        "    \"LogisticRegression\": LogisticRegression(),\n",
        "    \"RandomForest\": RandomForestClassifier(),\n",
        "    \"KNN\": KNeighborsClassifier(),\n",
        "    \"SVM\": SVC(),\n",
        "    \"GradientBoosting\": GradientBoostingClassifier()\n",
        "}\n",
        "\n",
        "results = {}\n",
        "\n",
        "for name, model in models.items():\n",
        "    pipe = Pipeline([\n",
        "        ('scaler', StandardScaler()),\n",
        "        ('model', model)\n",
        "    ])\n",
        "\n",
        "    pipe.fit(X_train, y_train)\n",
        "    y_pred = pipe.predict(X_test)\n",
        "    acc = accuracy_score(y_test, y_pred)\n",
        "    results[name] = acc\n",
        "    print(f\"{name} Accuracy: {acc:.4f}\")\n",
        "    print(classification_report(y_test, y_pred))"
      ]
    },
    {
      "cell_type": "code",
      "execution_count": 80,
      "metadata": {
        "colab": {
          "base_uri": "https://localhost:8080/",
          "height": 607
        },
        "id": "SY-6PaKWCA5W",
        "outputId": "719a81f2-091d-479e-b291-0dbd502b62ea"
      },
      "outputs": [
        {
          "data": {
            "image/png": "[encoded data removed]",
            "text/plain": [
              "<Figure size 1000x600 with 1 Axes>"
            ]
          },
          "metadata": {},
          "output_type": "display_data"
        }
      ],
      "source": [
        "import matplotlib.pyplot as plt\n",
        "plt.figure(figsize=(10, 6))\n",
        "plt.bar(results.keys(), results.values())\n",
        "plt.ylabel('Accuracy')\n",
        "plt.title('Model Accuracies')\n",
        "plt.ylim(0, 1)\n",
        "plt.xticks(rotation=45, ha='right')\n",
        "plt.tight_layout()\n",
        "plt.show()"
      ]
    },
    {
      "cell_type": "code",
      "execution_count": 81,
      "metadata": {
        "colab": {
          "base_uri": "https://localhost:8080/"
        },
        "id": "HBs-l0OwCA2P",
        "outputId": "9cf438c9-0c7c-44d4-94ee-5d2b6da231dd"
      },
      "outputs": [
        {
          "name": "stdout",
          "output_type": "stream",
          "text": [
            "LogisticRegression: 0.9231\n",
            "RandomForest: 0.9231\n",
            "KNN: 0.8923\n",
            "SVM: 0.8308\n",
            "GradientBoosting: 0.9231\n",
            "\n",
            "✅ Best model: LogisticRegression with accuracy 0.9231\n",
            "✅ Saved best model as best_model.pkl\n"
          ]
        }
      ],
      "source": [
        "from sklearn.linear_model import LogisticRegression\n",
        "from sklearn.ensemble import RandomForestClassifier, GradientBoostingClassifier\n",
        "from sklearn.neighbors import KNeighborsClassifier\n",
        "from sklearn.svm import SVC\n",
        "from sklearn.model_selection import train_test_split\n",
        "from sklearn.metrics import accuracy_score\n",
        "import joblib\n",
        "\n",
        "# Train-test split\n",
        "X_train, X_test, y_train, y_test = train_test_split(x, y, test_size=0.2, random_state=42)\n",
        "\n",
        "# Define models\n",
        "models = {\n",
        "    \"LogisticRegression\": LogisticRegression(max_iter=1000),\n",
        "    \"RandomForest\": RandomForestClassifier(),\n",
        "    \"KNN\": KNeighborsClassifier(),\n",
        "    \"SVM\": SVC(),\n",
        "    \"GradientBoosting\": GradientBoostingClassifier()\n",
        "}\n",
        "\n",
        "results = {}\n",
        "\n",
        "# Train and evaluate\n",
        "for name, model in models.items():\n",
        "    model.fit(X_train, y_train)\n",
        "    preds = model.predict(X_test)\n",
        "    acc = accuracy_score(y_test, preds)\n",
        "    results[name] = acc\n",
        "    print(f\"{name}: {acc:.4f}\")\n",
        "\n",
        "# Get best model\n",
        "best_model_name = max(results, key=results.get)\n",
        "best_model = models[best_model_name]\n",
        "print(f\"\\n✅ Best model: {best_model_name} with accuracy {results[best_model_name]:.4f}\")\n",
        "\n",
        "# Save the best model\n",
        "joblib.dump(best_model, \"best_model.pkl\")\n",
        "print(\"✅ Saved best model as best_model.pkl\")\n"
      ]
    },
    {
      "cell_type": "code",
      "execution_count": 90,
      "metadata": {
        "colab": {
          "base_uri": "https://localhost:8080/"
        },
        "id": "fc5ebbcf",
        "outputId": "221577d5-d54e-4d84-9507-7dbf663149ab"
      },
      "outputs": [
        {
          "name": "stdout",
          "output_type": "stream",
          "text": [
            "Overwriting app.py\n"
          ]
        }
      ],
      "source": [
        "%%writefile app.py\n",
        "import streamlit as st\n",
        "import pandas as pd\n",
        "import joblib\n",
        "from sklearn.preprocessing import LabelEncoder\n",
        "\n",
        "# Load the trained model\n",
        "model = joblib.load(\"best_model.pkl\")\n",
        "\n",
        "# Load the original dataframe to fit LabelEncoders\n",
        "df = pd.read_csv('Salary Data.csv')\n",
        "df.columns = ['Age', 'Gender', 'Education_Level', 'Job_Title', 'Years_of_Experience', 'Salary']\n",
        "df['Salary_Class'] = df['Salary'].apply(lambda x: '>50K' if x > 50000 else '<=50K')\n",
        "sal_df = df.drop_duplicates(keep='first')\n",
        "sal_df.dropna(how = 'any', inplace=True)\n",
        "\n",
        "# Fit LabelEncoders on the original data\n",
        "gender_le = LabelEncoder()\n",
        "sal_df['Gender'] = gender_le.fit_transform(sal_df['Gender'])\n",
        "\n",
        "degree_le = LabelEncoder()\n",
        "sal_df['Education_Level'] = degree_le.fit_transform(sal_df['Education_Level'])\n",
        "\n",
        "job_title_le = LabelEncoder()\n",
        "sal_df['Job_Title'] = job_title_le.fit_transform(sal_df['Job_Title'])\n",
        "\n",
        "\n",
        "st.set_page_config(page_title=\"Employee Salary Classification\", page_icon=\"💼\", layout=\"centered\")\n",
        "\n",
        "st.title(\"💼 Employee Salary Classification App\")\n",
        "st.markdown(\"Predict whether an employee earns >50K or ≤50K based on input features.\")\n",
        "\n",
        "# Sidebar inputs\n",
        "st.sidebar.header(\"Input Employee Details\")\n",
        "\n",
        "age = st.sidebar.slider(\"Age\", 18, 65, 30)\n",
        "gender = st.sidebar.selectbox(\"Gender\", df['Gender'].unique())\n",
        "education = st.sidebar.selectbox(\"Education Level\", df['Education_Level'].unique())\n",
        "job_title = st.sidebar.selectbox(\"Job Title\", df['Job_Title'].unique())\n",
        "experience = st.sidebar.slider(\"Years of Experience\", 0.0, 40.0, 5.0)\n",
        "\n",
        "# Encode categorical inputs\n",
        "gender_encoded = gender_le.transform([gender])[0]\n",
        "education_encoded = degree_le.transform([education])[0]\n",
        "job_title_encoded = job_title_le.transform([job_title])[0]\n",
        "\n",
        "\n",
        "# Build input DataFrame - Corrected column names\n",
        "input_df = pd.DataFrame({\n",
        "    'Age': [age],\n",
        "    'Gender': [gender_encoded],\n",
        "    'Degree': [education_encoded], # Corrected from 'Education_Level'\n",
        "    'Job_Title': [job_title_encoded],\n",
        "    'Experience_Years': [experience] # Corrected from 'Years_of_Experience'\n",
        "})\n",
        "\n",
        "st.write(\"### 🔎 Input Data\")\n",
        "st.write(input_df)\n",
        "\n",
        "# Predict button\n",
        "if st.button(\"Predict Salary Class\"):\n",
        "    prediction = model.predict(input_df)\n",
        "    st.success(f\"✅ Prediction: {prediction[0]}\")\n",
        "\n",
        "# Batch prediction\n",
        "st.markdown(\"---\")\n",
        "st.markdown(\"#### 📂 Batch Prediction\")\n",
        "uploaded_file = st.file_uploader(\"Upload a CSV file for batch prediction\", type=\"csv\")\n",
        "\n",
        "if uploaded_file is not None:\n",
        "    batch_data = pd.read_csv(uploaded_file)\n",
        "    # Ensure columns match and encode categorical features\n",
        "    batch_data.columns = ['Age', 'Gender', 'Education_Level', 'Job_Title', 'Years_of_Experience', 'Salary']\n",
        "    batch_data['Gender'] = gender_le.transform(batch_data['Gender'])\n",
        "    batch_data['Education_Level'] = degree_le.transform(batch_data['Education_Level'])\n",
        "    batch_data['Job_Title'] = job_title_le.transform(batch_data['Job_Title'])\n",
        "\n",
        "    # Correct column names for batch prediction before dropping 'Salary'\n",
        "    batch_data = batch_data.rename(columns={'Education_Level': 'Degree', 'Years_of_Experience': 'Experience_Years'})\n",
        "\n",
        "    batch_preds = model.predict(batch_data.drop(columns=['Salary']))\n",
        "    batch_data['PredictedClass'] = batch_preds\n",
        "    st.write(\"✅ Predictions:\")\n",
        "    st.write(batch_data.head())\n",
        "    csv = batch_data.to_csv(index=False).encode('utf-8')\n",
        "    st.download_button(\"Download Predictions CSV\", csv, file_name='predicted_classes.csv', mime='text/csv')"
      ]
    },
    {
      "cell_type": "code",
      "execution_count": 91,
      "metadata": {
        "colab": {
          "base_uri": "https://localhost:8080/"
        },
        "id": "edb24ec8",
        "outputId": "dcd18592-04ff-4030-8942-2e4456726568"
      },
      "outputs": [
        {
          "name": "stdout",
          "output_type": "stream",
          "text": [
            "^C\n"
          ]
        }
      ],
      "source": [
        "!streamlit run app.py"
      ]
    }
  ],
  "metadata": {
    "colab": {
      "provenance": []
    },
    "kernelspec": {
      "display_name": "base",
      "language": "python",
      "name": "python3"
    },
    "language_info": {
      "codemirror_mode": {
        "name": "ipython",
        "version": 3
      },
      "file_extension": ".py",
      "mimetype": "text/x-python",
      "name": "python",
      "nbconvert_exporter": "python",
      "pygments_lexer": "ipython3",
      "version": "3.12.3"
    }
  },
  "nbformat": 4,
  "nbformat_minor": 0
}
